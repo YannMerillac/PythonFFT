{
 "cells": [
  {
   "cell_type": "code",
   "execution_count": 16,
   "metadata": {},
   "outputs": [],
   "source": [
    "import numpy as np\n",
    "from mkl_fft import fft as mkl_fft\n",
    "from mkl_fft import ifft as mkl_ifft\n",
    "from mkl_fft import FFTHandler\n",
    "from scipy.fftpack import fft as fftpack\n",
    "from scipy.fftpack import ifft as ifftpack"
   ]
  },
  {
   "cell_type": "code",
   "execution_count": 17,
   "metadata": {},
   "outputs": [],
   "source": [
    "n=100000\n",
    "x = np.random.rand(n).astype(np.complex64)\n",
    "fft_mkl = np.empty_like(x)"
   ]
  },
  {
   "cell_type": "code",
   "execution_count": 18,
   "metadata": {},
   "outputs": [],
   "source": [
    "mkl_fft(x, fft_mkl)"
   ]
  },
  {
   "cell_type": "code",
   "execution_count": 19,
   "metadata": {},
   "outputs": [],
   "source": [
    "fft_numpy = np.fft.fft(x)"
   ]
  },
  {
   "cell_type": "code",
   "execution_count": 20,
   "metadata": {},
   "outputs": [
    {
     "name": "stdout",
     "output_type": "stream",
     "text": [
      "0.01834448\n"
     ]
    }
   ],
   "source": [
    "print(np.abs(fft_mkl - fft_numpy).max())"
   ]
  },
  {
   "cell_type": "code",
   "execution_count": 21,
   "metadata": {},
   "outputs": [
    {
     "name": "stdout",
     "output_type": "stream",
     "text": [
      "0.01670439\n"
     ]
    }
   ],
   "source": [
    "fft_scipy = fftpack(x)\n",
    "print(np.abs(fft_scipy - fft_numpy).max())"
   ]
  },
  {
   "cell_type": "code",
   "execution_count": 22,
   "metadata": {},
   "outputs": [
    {
     "name": "stdout",
     "output_type": "stream",
     "text": [
      "0.01670439\n"
     ]
    }
   ],
   "source": [
    "fft_handler = FFTHandler(n)\n",
    "fft_mkl2 = np.empty_like(x)\n",
    "fft_handler.fft(x, fft_mkl2)\n",
    "print(np.abs(fft_scipy - fft_numpy).max())"
   ]
  },
  {
   "cell_type": "code",
   "execution_count": 23,
   "metadata": {},
   "outputs": [
    {
     "name": "stdout",
     "output_type": "stream",
     "text": [
      "[ 4.9989212e+05+9.6315765e-05j  6.0342411e+01-2.2661079e+02j\n",
      " -5.2567490e+01+2.9588869e+01j  1.1410452e+02+2.2328445e+02j\n",
      "  6.6879745e+01-1.4929825e+01j  1.0201331e+02-3.1829514e+01j\n",
      " -1.2439705e+02+6.8886032e+01j -6.0312920e+00-8.7646286e+01j]\n",
      "[ 4.99892125e+05  +0.j         6.03424454e+01-226.6108j\n",
      " -5.25675163e+01 +29.588865j   1.14104546e+02+223.28448j\n",
      "  6.68797531e+01 -14.9298315j  1.02013283e+02 -31.829514j\n",
      " -1.24397057e+02 +68.886024j  -6.03127480e+00 -87.64628j  ]\n",
      "[ 4.9989212e+05  +0.j        6.0342445e+01-226.61081j\n",
      " -5.2567505e+01 +29.58884j   1.1410452e+02+223.28452j\n",
      "  6.6879715e+01 -14.929821j  1.0201323e+02 -31.829514j\n",
      " -1.2439703e+02 +68.886j    -6.0312920e+00 -87.646286j]\n"
     ]
    }
   ],
   "source": [
    "print(fft_mkl[:8])\n",
    "print(fft_numpy[:8])\n",
    "print(fft_scipy[:8])"
   ]
  },
  {
   "cell_type": "code",
   "execution_count": 24,
   "metadata": {},
   "outputs": [
    {
     "name": "stdout",
     "output_type": "stream",
     "text": [
      "110 ms ± 21.3 ms per loop (mean ± std. dev. of 7 runs, 10 loops each)\n"
     ]
    }
   ],
   "source": [
    "%timeit np.fft.fft(x)"
   ]
  },
  {
   "cell_type": "code",
   "execution_count": 25,
   "metadata": {},
   "outputs": [
    {
     "name": "stdout",
     "output_type": "stream",
     "text": [
      "12 ms ± 1.79 ms per loop (mean ± std. dev. of 7 runs, 100 loops each)\n"
     ]
    }
   ],
   "source": [
    "%timeit mkl_fft(x, fft_mkl)"
   ]
  },
  {
   "cell_type": "code",
   "execution_count": 26,
   "metadata": {},
   "outputs": [
    {
     "name": "stdout",
     "output_type": "stream",
     "text": [
      "11.1 ms ± 733 μs per loop (mean ± std. dev. of 7 runs, 100 loops each)\n"
     ]
    }
   ],
   "source": [
    "%timeit fft_handler.fft(x, fft_mkl2)"
   ]
  },
  {
   "cell_type": "code",
   "execution_count": 27,
   "metadata": {},
   "outputs": [
    {
     "name": "stdout",
     "output_type": "stream",
     "text": [
      "29.2 ms ± 1.83 ms per loop (mean ± std. dev. of 7 runs, 10 loops each)\n"
     ]
    }
   ],
   "source": [
    "%timeit fftpack(x)"
   ]
  },
  {
   "cell_type": "code",
   "execution_count": 28,
   "metadata": {},
   "outputs": [],
   "source": [
    "ifft_mkl = np.empty_like(fft_mkl)\n",
    "mkl_ifft(fft_mkl, ifft_mkl)"
   ]
  },
  {
   "cell_type": "code",
   "execution_count": 29,
   "metadata": {},
   "outputs": [],
   "source": [
    "ifft_numpy = np.fft.ifft(fft_numpy)"
   ]
  },
  {
   "cell_type": "code",
   "execution_count": 30,
   "metadata": {},
   "outputs": [
    {
     "name": "stdout",
     "output_type": "stream",
     "text": [
      "6.036137e-07\n"
     ]
    }
   ],
   "source": [
    "print(np.abs(ifft_mkl -ifft_numpy).max())"
   ]
  },
  {
   "cell_type": "code",
   "execution_count": 35,
   "metadata": {},
   "outputs": [
    {
     "name": "stdout",
     "output_type": "stream",
     "text": [
      "6.036137e-07\n"
     ]
    }
   ],
   "source": [
    "ifft_mkl2 = np.empty_like(fft_mkl2)\n",
    "fft_handler.ifft(fft_mkl2, ifft_mkl2)\n",
    "print(np.abs(ifft_mkl2 -ifft_numpy).max())"
   ]
  },
  {
   "cell_type": "code",
   "execution_count": 31,
   "metadata": {},
   "outputs": [
    {
     "name": "stdout",
     "output_type": "stream",
     "text": [
      "5.4549804e-07\n"
     ]
    }
   ],
   "source": [
    "ifft_scipy = ifftpack(fft_scipy)\n",
    "print(np.abs(ifft_scipy -ifft_numpy).max())"
   ]
  },
  {
   "cell_type": "code",
   "execution_count": 32,
   "metadata": {},
   "outputs": [
    {
     "name": "stdout",
     "output_type": "stream",
     "text": [
      "38.5 ms ± 4.06 ms per loop (mean ± std. dev. of 7 runs, 10 loops each)\n"
     ]
    }
   ],
   "source": [
    "%timeit np.fft.ifft(fft_numpy)"
   ]
  },
  {
   "cell_type": "code",
   "execution_count": 33,
   "metadata": {},
   "outputs": [
    {
     "name": "stdout",
     "output_type": "stream",
     "text": [
      "11.8 ms ± 652 μs per loop (mean ± std. dev. of 7 runs, 100 loops each)\n"
     ]
    }
   ],
   "source": [
    "%timeit mkl_ifft(fft_mkl, ifft_mkl)"
   ]
  },
  {
   "cell_type": "code",
   "execution_count": 36,
   "metadata": {},
   "outputs": [
    {
     "name": "stdout",
     "output_type": "stream",
     "text": [
      "12.1 ms ± 919 μs per loop (mean ± std. dev. of 7 runs, 100 loops each)\n"
     ]
    }
   ],
   "source": [
    "%timeit fft_handler.ifft(fft_mkl2, ifft_mkl2)"
   ]
  },
  {
   "cell_type": "code",
   "execution_count": 34,
   "metadata": {},
   "outputs": [
    {
     "name": "stdout",
     "output_type": "stream",
     "text": [
      "34.1 ms ± 4.9 ms per loop (mean ± std. dev. of 7 runs, 10 loops each)\n"
     ]
    }
   ],
   "source": [
    "%timeit ifftpack(fft_scipy)"
   ]
  }
 ],
 "metadata": {
  "kernelspec": {
   "display_name": ".venv",
   "language": "python",
   "name": "python3"
  },
  "language_info": {
   "codemirror_mode": {
    "name": "ipython",
    "version": 3
   },
   "file_extension": ".py",
   "mimetype": "text/x-python",
   "name": "python",
   "nbconvert_exporter": "python",
   "pygments_lexer": "ipython3",
   "version": "3.12.3"
  }
 },
 "nbformat": 4,
 "nbformat_minor": 2
}
