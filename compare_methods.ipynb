{
 "cells": [
  {
   "cell_type": "code",
   "execution_count": 1,
   "metadata": {},
   "outputs": [],
   "source": [
    "import numpy as np\n",
    "from mkl_fft import fft as mkl_fft\n",
    "from mkl_fft import ifft as mkl_ifft\n",
    "from mkl_fft import FFTHandler\n",
    "from scipy.fftpack import fft as fftpack\n",
    "from scipy.fftpack import ifft as ifftpack"
   ]
  },
  {
   "cell_type": "code",
   "execution_count": 2,
   "metadata": {},
   "outputs": [],
   "source": [
    "n=100000\n",
    "x = np.random.rand(n).astype(np.complex64)\n",
    "fft_mkl = np.empty_like(x)"
   ]
  },
  {
   "cell_type": "code",
   "execution_count": 3,
   "metadata": {},
   "outputs": [],
   "source": [
    "mkl_fft(x, fft_mkl)"
   ]
  },
  {
   "cell_type": "code",
   "execution_count": 4,
   "metadata": {},
   "outputs": [],
   "source": [
    "fft_numpy = np.fft.fft(x)"
   ]
  },
  {
   "cell_type": "code",
   "execution_count": 5,
   "metadata": {},
   "outputs": [
    {
     "name": "stdout",
     "output_type": "stream",
     "text": [
      "0.00069101324\n"
     ]
    }
   ],
   "source": [
    "print(np.abs(fft_mkl - fft_numpy).max())"
   ]
  },
  {
   "cell_type": "code",
   "execution_count": 6,
   "metadata": {},
   "outputs": [
    {
     "name": "stdout",
     "output_type": "stream",
     "text": [
      "0.0012743637\n"
     ]
    }
   ],
   "source": [
    "fft_scipy = fftpack(x)\n",
    "print(np.abs(fft_scipy - fft_numpy).max())"
   ]
  },
  {
   "cell_type": "code",
   "execution_count": 7,
   "metadata": {},
   "outputs": [
    {
     "name": "stdout",
     "output_type": "stream",
     "text": [
      "0.0012743637\n"
     ]
    }
   ],
   "source": [
    "fft_handler = FFTHandler(n)\n",
    "fft_mkl2 = np.empty_like(x)\n",
    "fft_handler.fft(x, fft_mkl2)\n",
    "print(np.abs(fft_scipy - fft_numpy).max())"
   ]
  },
  {
   "cell_type": "code",
   "execution_count": 8,
   "metadata": {},
   "outputs": [
    {
     "name": "stdout",
     "output_type": "stream",
     "text": [
      "0.00057869496231433\n"
     ]
    }
   ],
   "source": [
    "from fftlib import FFTObject\n",
    "\n",
    "fftw = FFTObject(n)\n",
    "fftw.data_in[:] = x\n",
    "fftw.fft()\n",
    "fft_w = fftw.data_out\n",
    "\n",
    "print(np.abs(fft_w - fft_numpy).max())\n"
   ]
  },
  {
   "cell_type": "code",
   "execution_count": 9,
   "metadata": {},
   "outputs": [
    {
     "name": "stdout",
     "output_type": "stream",
     "text": [
      "[ 4.9996570e+04+4.7681301e-06j -1.7451809e+01+1.6341555e+01j\n",
      "  6.9082451e+01+4.3799919e+01j -2.1960711e+01-8.1657043e+01j\n",
      " -6.4670502e+01-3.8885292e+01j  1.5278336e+01-2.4096352e+01j\n",
      " -4.4324230e+01+2.3797939e+01j  8.3953590e+01-9.3269835e+00j]\n",
      "[ 4.9996570e+04 +0.j       -1.7451803e+01+16.341547j\n",
      "  6.9082443e+01+43.799915j -2.1960703e+01-81.65707j\n",
      " -6.4670509e+01-38.88529j   1.5278335e+01-24.09635j\n",
      " -4.4324238e+01+23.797945j  8.3953598e+01 -9.326978j]\n",
      "[ 4.9996570e+04 +0.j       -1.7451813e+01+16.341549j\n",
      "  6.9082451e+01+43.799904j -2.1960691e+01-81.65706j\n",
      " -6.4670494e+01-38.885277j  1.5278334e+01-24.096355j\n",
      " -4.4324242e+01+23.797941j  8.3953598e+01 -9.32699j ]\n",
      "[ 4.99965697e+04 +0.j         -1.74518041e+01+16.34154667j\n",
      "  6.90824395e+01+43.79991676j -2.19607034e+01-81.65706354j\n",
      " -6.46705109e+01-38.88528831j  1.52783347e+01-24.09634942j\n",
      " -4.43242374e+01+23.79794418j  8.39535965e+01 -9.32697783j]\n"
     ]
    }
   ],
   "source": [
    "print(fft_mkl[:8])\n",
    "print(fft_numpy[:8])\n",
    "print(fft_scipy[:8])\n",
    "print(fft_w[:8])\n"
   ]
  },
  {
   "cell_type": "code",
   "execution_count": 10,
   "metadata": {},
   "outputs": [
    {
     "name": "stdout",
     "output_type": "stream",
     "text": [
      "12.2 ms ± 2.32 ms per loop (mean ± std. dev. of 7 runs, 100 loops each)\n"
     ]
    }
   ],
   "source": [
    "%timeit np.fft.fft(x)"
   ]
  },
  {
   "cell_type": "code",
   "execution_count": 11,
   "metadata": {},
   "outputs": [
    {
     "name": "stdout",
     "output_type": "stream",
     "text": [
      "861 μs ± 32.6 μs per loop (mean ± std. dev. of 7 runs, 1,000 loops each)\n"
     ]
    }
   ],
   "source": [
    "%timeit mkl_fft(x, fft_mkl)"
   ]
  },
  {
   "cell_type": "code",
   "execution_count": 12,
   "metadata": {},
   "outputs": [
    {
     "name": "stdout",
     "output_type": "stream",
     "text": [
      "1.07 ms ± 250 μs per loop (mean ± std. dev. of 7 runs, 1,000 loops each)\n"
     ]
    }
   ],
   "source": [
    "%timeit fft_handler.fft(x, fft_mkl2)"
   ]
  },
  {
   "cell_type": "code",
   "execution_count": 13,
   "metadata": {},
   "outputs": [
    {
     "name": "stdout",
     "output_type": "stream",
     "text": [
      "4.49 ms ± 610 μs per loop (mean ± std. dev. of 7 runs, 100 loops each)\n"
     ]
    }
   ],
   "source": [
    "%timeit fftpack(x)"
   ]
  },
  {
   "cell_type": "code",
   "execution_count": 14,
   "metadata": {},
   "outputs": [
    {
     "name": "stdout",
     "output_type": "stream",
     "text": [
      "4.16 ms ± 777 μs per loop (mean ± std. dev. of 7 runs, 100 loops each)\n"
     ]
    }
   ],
   "source": [
    "%timeit fftw.fft()"
   ]
  },
  {
   "cell_type": "code",
   "execution_count": 15,
   "metadata": {},
   "outputs": [],
   "source": [
    "ifft_mkl = np.empty_like(fft_mkl)\n",
    "mkl_ifft(fft_mkl, ifft_mkl)"
   ]
  },
  {
   "cell_type": "code",
   "execution_count": 16,
   "metadata": {},
   "outputs": [],
   "source": [
    "ifft_numpy = np.fft.ifft(fft_numpy)"
   ]
  },
  {
   "cell_type": "code",
   "execution_count": 17,
   "metadata": {},
   "outputs": [
    {
     "name": "stdout",
     "output_type": "stream",
     "text": [
      "5.36672e-07\n"
     ]
    }
   ],
   "source": [
    "print(np.abs(ifft_mkl -ifft_numpy).max())"
   ]
  },
  {
   "cell_type": "code",
   "execution_count": 18,
   "metadata": {},
   "outputs": [
    {
     "name": "stdout",
     "output_type": "stream",
     "text": [
      "5.36672e-07\n"
     ]
    }
   ],
   "source": [
    "ifft_mkl2 = np.empty_like(fft_mkl2)\n",
    "fft_handler.ifft(fft_mkl2, ifft_mkl2)\n",
    "print(np.abs(ifft_mkl2 -ifft_numpy).max())"
   ]
  },
  {
   "cell_type": "code",
   "execution_count": 19,
   "metadata": {},
   "outputs": [
    {
     "name": "stdout",
     "output_type": "stream",
     "text": [
      "4.858919e-07\n"
     ]
    }
   ],
   "source": [
    "ifft_scipy = ifftpack(fft_scipy)\n",
    "print(np.abs(ifft_scipy -ifft_numpy).max())"
   ]
  },
  {
   "cell_type": "code",
   "execution_count": 20,
   "metadata": {},
   "outputs": [
    {
     "name": "stdout",
     "output_type": "stream",
     "text": [
      "2.83 ms ± 109 μs per loop (mean ± std. dev. of 7 runs, 100 loops each)\n"
     ]
    }
   ],
   "source": [
    "%timeit np.fft.ifft(fft_numpy)"
   ]
  },
  {
   "cell_type": "code",
   "execution_count": 21,
   "metadata": {},
   "outputs": [
    {
     "name": "stdout",
     "output_type": "stream",
     "text": [
      "1.76 ms ± 427 μs per loop (mean ± std. dev. of 7 runs, 1,000 loops each)\n"
     ]
    }
   ],
   "source": [
    "%timeit mkl_ifft(fft_mkl, ifft_mkl)"
   ]
  },
  {
   "cell_type": "code",
   "execution_count": 22,
   "metadata": {},
   "outputs": [
    {
     "name": "stdout",
     "output_type": "stream",
     "text": [
      "947 μs ± 53 μs per loop (mean ± std. dev. of 7 runs, 1,000 loops each)\n"
     ]
    }
   ],
   "source": [
    "%timeit fft_handler.ifft(fft_mkl2, ifft_mkl2)"
   ]
  },
  {
   "cell_type": "code",
   "execution_count": 23,
   "metadata": {},
   "outputs": [
    {
     "name": "stdout",
     "output_type": "stream",
     "text": [
      "2.23 ms ± 206 μs per loop (mean ± std. dev. of 7 runs, 100 loops each)\n"
     ]
    }
   ],
   "source": [
    "%timeit ifftpack(fft_scipy)"
   ]
  },
  {
   "cell_type": "code",
   "execution_count": 24,
   "metadata": {},
   "outputs": [],
   "source": [
    "from pocketfft import fft as pocketfft"
   ]
  },
  {
   "cell_type": "code",
   "execution_count": 25,
   "metadata": {},
   "outputs": [],
   "source": [
    "pfft = np.empty_like(x)\n",
    "pocketfft(x, pfft)"
   ]
  },
  {
   "cell_type": "code",
   "execution_count": 26,
   "metadata": {},
   "outputs": [
    {
     "name": "stdout",
     "output_type": "stream",
     "text": [
      "[ 4.9996570e+04 +0.j       -1.7451813e+01+16.341549j\n",
      "  6.9082451e+01+43.799904j -2.1960691e+01-81.65706j\n",
      " -6.4670494e+01-38.885277j]\n",
      "[ 4.9996570e+04 +0.j       -1.7451803e+01+16.341547j\n",
      "  6.9082443e+01+43.799915j -2.1960703e+01-81.65707j\n",
      " -6.4670509e+01-38.88529j ]\n"
     ]
    }
   ],
   "source": [
    "print(pfft[:5])\n",
    "print(fft_numpy[:5])"
   ]
  },
  {
   "cell_type": "code",
   "execution_count": 30,
   "metadata": {},
   "outputs": [
    {
     "name": "stdout",
     "output_type": "stream",
     "text": [
      "2.82 ms ± 282 μs per loop (mean ± std. dev. of 7 runs, 100 loops each)\n"
     ]
    }
   ],
   "source": [
    "%timeit pocketfft(x, pfft, 4)"
   ]
  }
 ],
 "metadata": {
  "kernelspec": {
   "display_name": ".venv",
   "language": "python",
   "name": "python3"
  },
  "language_info": {
   "codemirror_mode": {
    "name": "ipython",
    "version": 3
   },
   "file_extension": ".py",
   "mimetype": "text/x-python",
   "name": "python",
   "nbconvert_exporter": "python",
   "pygments_lexer": "ipython3",
   "version": "3.12.3"
  }
 },
 "nbformat": 4,
 "nbformat_minor": 2
}
