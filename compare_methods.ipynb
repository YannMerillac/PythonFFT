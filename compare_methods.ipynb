{
 "cells": [
  {
   "cell_type": "code",
   "execution_count": 20,
   "metadata": {},
   "outputs": [],
   "source": [
    "import numpy as np\n",
    "from mkl_fft import fft as mkl_fft\n",
    "from mkl_fft import ifft as mkl_ifft\n",
    "from scipy.fftpack import fft as fftpack\n",
    "from scipy.fftpack import ifft as ifftpack"
   ]
  },
  {
   "cell_type": "code",
   "execution_count": 21,
   "metadata": {},
   "outputs": [],
   "source": [
    "n=100000\n",
    "x = np.random.rand(n).astype(np.complex64)\n",
    "fft_mkl = np.empty_like(x)"
   ]
  },
  {
   "cell_type": "code",
   "execution_count": 22,
   "metadata": {},
   "outputs": [],
   "source": [
    "mkl_fft(x, fft_mkl)"
   ]
  },
  {
   "cell_type": "code",
   "execution_count": 23,
   "metadata": {},
   "outputs": [],
   "source": [
    "fft_numpy = np.fft.fft(x)"
   ]
  },
  {
   "cell_type": "code",
   "execution_count": 24,
   "metadata": {},
   "outputs": [
    {
     "name": "stdout",
     "output_type": "stream",
     "text": [
      "0.0016283218\n"
     ]
    }
   ],
   "source": [
    "print(np.abs(fft_mkl - fft_numpy).max())"
   ]
  },
  {
   "cell_type": "code",
   "execution_count": 25,
   "metadata": {},
   "outputs": [
    {
     "name": "stdout",
     "output_type": "stream",
     "text": [
      "0.00127182\n"
     ]
    }
   ],
   "source": [
    "fft_scipy = fftpack(x)\n",
    "print(np.abs(fft_scipy - fft_numpy).max())"
   ]
  },
  {
   "cell_type": "code",
   "execution_count": 34,
   "metadata": {},
   "outputs": [
    {
     "name": "stdout",
     "output_type": "stream",
     "text": [
      "[ 5.0132977e+04+3.8781095e-06j  5.2101578e+01+3.5003441e+01j\n",
      " -3.9701588e+01-1.3611697e+01j  6.7060944e+01+5.0806526e+01j\n",
      "  1.8369232e+02+2.2956614e+01j  2.0429173e+00+8.2020226e+01j\n",
      " -9.7246857e+00-6.7986473e+01j -1.8067516e+01+2.5167389e+00j]\n",
      "[ 5.0132977e+04 +0.j         5.2101593e+01+35.00344j\n",
      " -3.9701580e+01-13.611695j   6.7060944e+01+50.806526j\n",
      "  1.8369232e+02+22.956627j   2.0429211e+00+82.020226j\n",
      " -9.7247000e+00-67.98648j   -1.8067511e+01 +2.5167327j]\n",
      "[ 5.0132977e+04 +0.j        5.2101593e+01+35.003445j\n",
      " -3.9701576e+01-13.611683j  6.7060936e+01+50.806522j\n",
      "  1.8369232e+02+22.95663j   2.0429096e+00+82.02024j\n",
      " -9.7247095e+00-67.986465j -1.8067513e+01 +2.516737j]\n"
     ]
    }
   ],
   "source": [
    "print(fft_mkl[:8])\n",
    "print(fft_numpy[:8])\n",
    "print(fft_scipy[:8])"
   ]
  },
  {
   "cell_type": "code",
   "execution_count": 27,
   "metadata": {},
   "outputs": [
    {
     "name": "stdout",
     "output_type": "stream",
     "text": [
      "11.6 ms ± 637 μs per loop (mean ± std. dev. of 7 runs, 10 loops each)\n"
     ]
    }
   ],
   "source": [
    "%timeit np.fft.fft(x)"
   ]
  },
  {
   "cell_type": "code",
   "execution_count": 28,
   "metadata": {},
   "outputs": [
    {
     "name": "stdout",
     "output_type": "stream",
     "text": [
      "1.06 ms ± 168 μs per loop (mean ± std. dev. of 7 runs, 1,000 loops each)\n"
     ]
    }
   ],
   "source": [
    "%timeit mkl_fft(x, fft_mkl)"
   ]
  },
  {
   "cell_type": "code",
   "execution_count": 35,
   "metadata": {},
   "outputs": [
    {
     "name": "stdout",
     "output_type": "stream",
     "text": [
      "2.07 ms ± 170 μs per loop (mean ± std. dev. of 7 runs, 100 loops each)\n"
     ]
    }
   ],
   "source": [
    "%timeit fftpack(x)"
   ]
  },
  {
   "cell_type": "code",
   "execution_count": 29,
   "metadata": {},
   "outputs": [],
   "source": [
    "ifft_mkl = np.empty_like(fft_mkl)\n",
    "mkl_ifft(fft_mkl, ifft_mkl)"
   ]
  },
  {
   "cell_type": "code",
   "execution_count": 30,
   "metadata": {},
   "outputs": [],
   "source": [
    "ifft_numpy = np.fft.ifft(fft_numpy)"
   ]
  },
  {
   "cell_type": "code",
   "execution_count": 31,
   "metadata": {},
   "outputs": [
    {
     "name": "stdout",
     "output_type": "stream",
     "text": [
      "4.928392e-07\n"
     ]
    }
   ],
   "source": [
    "print(np.abs(ifft_mkl -ifft_numpy).max())"
   ]
  },
  {
   "cell_type": "code",
   "execution_count": 36,
   "metadata": {},
   "outputs": [
    {
     "name": "stdout",
     "output_type": "stream",
     "text": [
      "4.6771748e-07\n"
     ]
    }
   ],
   "source": [
    "ifft_scipy = ifftpack(fft_scipy)\n",
    "print(np.abs(ifft_scipy -ifft_numpy).max())"
   ]
  },
  {
   "cell_type": "code",
   "execution_count": 32,
   "metadata": {},
   "outputs": [
    {
     "name": "stdout",
     "output_type": "stream",
     "text": [
      "2.54 ms ± 24.7 μs per loop (mean ± std. dev. of 7 runs, 100 loops each)\n"
     ]
    }
   ],
   "source": [
    "%timeit np.fft.ifft(fft_numpy)"
   ]
  },
  {
   "cell_type": "code",
   "execution_count": 33,
   "metadata": {},
   "outputs": [
    {
     "name": "stdout",
     "output_type": "stream",
     "text": [
      "1.62 ms ± 550 μs per loop (mean ± std. dev. of 7 runs, 1,000 loops each)\n"
     ]
    }
   ],
   "source": [
    "%timeit mkl_ifft(fft_mkl, ifft_mkl)"
   ]
  },
  {
   "cell_type": "code",
   "execution_count": null,
   "metadata": {},
   "outputs": [],
   "source": [
    "%timeit ifftpack(fft_scipy)"
   ]
  }
 ],
 "metadata": {
  "kernelspec": {
   "display_name": ".venv",
   "language": "python",
   "name": "python3"
  },
  "language_info": {
   "codemirror_mode": {
    "name": "ipython",
    "version": 3
   },
   "file_extension": ".py",
   "mimetype": "text/x-python",
   "name": "python",
   "nbconvert_exporter": "python",
   "pygments_lexer": "ipython3",
   "version": "3.12.3"
  }
 },
 "nbformat": 4,
 "nbformat_minor": 2
}
